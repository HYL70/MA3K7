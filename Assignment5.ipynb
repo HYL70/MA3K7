{
 "cells": [
  {
   "cell_type": "code",
   "execution_count": 1,
   "id": "5c174c4d",
   "metadata": {},
   "outputs": [],
   "source": [
    "# import necessary libraries\n",
    "import numpy as np\n",
    "from itertools import permutations"
   ]
  },
  {
   "cell_type": "code",
   "execution_count": 2,
   "id": "368eb30f",
   "metadata": {},
   "outputs": [
    {
     "data": {
      "text/plain": [
       "array([[1., 1., 0., 1., 1., 1., 0., 1., 0.],\n",
       "       [1., 1., 1., 1., 1., 1., 1., 0., 1.],\n",
       "       [0., 1., 1., 1., 1., 1., 0., 1., 0.],\n",
       "       [1., 1., 1., 1., 1., 0., 1., 1., 1.],\n",
       "       [1., 1., 1., 1., 1., 1., 1., 1., 1.],\n",
       "       [1., 1., 1., 0., 1., 1., 1., 1., 1.],\n",
       "       [0., 1., 0., 1., 1., 1., 1., 1., 0.],\n",
       "       [1., 0., 1., 1., 1., 1., 1., 1., 1.],\n",
       "       [0., 1., 0., 1., 1., 1., 0., 1., 1.]])"
      ]
     },
     "execution_count": 2,
     "metadata": {},
     "output_type": "execute_result"
    }
   ],
   "source": [
    "# list for permutation\n",
    "a = [1,2,3,4,5,6,7,8,9]\n",
    "# matrix for checking\n",
    "A = np.ones((9,9))\n",
    "# list of impossible edges\n",
    "falseList = [[0,2],[2,0],[3,5],[5,3],[6,8],[8,6],[0,6],[6,0],\n",
    "            [1,7],[7,1],[2,8],[8,2],[0,8],[8,0],[2,6],[6,2]]\n",
    "# entries of impossible edges are zero\n",
    "for item in falseList:\n",
    "    A[item[0]][item[1]] = 0\n",
    "A"
   ]
  },
  {
   "cell_type": "code",
   "execution_count": 3,
   "id": "b04882fd",
   "metadata": {},
   "outputs": [],
   "source": [
    "# initiate list for counts with different n\n",
    "counts = []\n",
    "\n",
    "for i in range(2,10): # for each 2<= n <=9\n",
    "    count = 0 # initiate the count\n",
    "    for j in permutations(a,i): # for each permutation\n",
    "        temp = []\n",
    "        for k in range(1,i):\n",
    "            temp.append(A[j[k-1]-1][j[k]-1])\n",
    "        if all(temp)==0: # chech evenry edge in the permutation\n",
    "            continue\n",
    "        count+=1\n",
    "    counts.append(count)"
   ]
  },
  {
   "cell_type": "code",
   "execution_count": 4,
   "id": "f7141c70",
   "metadata": {},
   "outputs": [
    {
     "data": {
      "text/plain": [
       "[56, 304, 1400, 5328, 16032, 35328, 49536, 32256]"
      ]
     },
     "execution_count": 4,
     "metadata": {},
     "output_type": "execute_result"
    }
   ],
   "source": [
    "counts"
   ]
  },
  {
   "cell_type": "code",
   "execution_count": 5,
   "id": "98cf43a9",
   "metadata": {},
   "outputs": [
    {
     "data": {
      "text/plain": [
       "70129.0"
      ]
     },
     "execution_count": 5,
     "metadata": {},
     "output_type": "execute_result"
    }
   ],
   "source": [
    "9+sum(counts)/2"
   ]
  },
  {
   "cell_type": "code",
   "execution_count": null,
   "id": "7f432497",
   "metadata": {},
   "outputs": [],
   "source": []
  }
 ],
 "metadata": {
  "kernelspec": {
   "display_name": "Python 3 (ipykernel)",
   "language": "python",
   "name": "python3"
  },
  "language_info": {
   "codemirror_mode": {
    "name": "ipython",
    "version": 3
   },
   "file_extension": ".py",
   "mimetype": "text/x-python",
   "name": "python",
   "nbconvert_exporter": "python",
   "pygments_lexer": "ipython3",
   "version": "3.9.7"
  }
 },
 "nbformat": 4,
 "nbformat_minor": 5
}
