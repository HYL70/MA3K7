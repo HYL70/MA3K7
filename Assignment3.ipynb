{
 "cells": [
  {
   "cell_type": "code",
   "execution_count": 1,
   "id": "3398ac77",
   "metadata": {},
   "outputs": [],
   "source": [
    "# import necessary libraries\n",
    "import numpy as np\n",
    "import random\n",
    "import matplotlib.pyplot as plt"
   ]
  },
  {
   "cell_type": "code",
   "execution_count": 2,
   "id": "c64a73e9",
   "metadata": {},
   "outputs": [],
   "source": [
    "# function to find a hat number\n",
    "def hat(mySet):\n",
    "    while len(mySet) > 1: # if there is more than one paper left, do the process\n",
    "        index = [] # initiate the list for the index of numbers drawing\n",
    "        num = [] # initiate the list for the numbers drawing\n",
    "        for _ in range(2):\n",
    "            temp = random.randrange(len(mySet)) # randomly generate an interger to be the index\n",
    "            index.append(temp)\n",
    "            num.append(mySet[temp])\n",
    "            mySet = np.delete(mySet, temp) # discard the original paper\n",
    "        diff = abs(num[1]-num[0])\n",
    "        mySet = np.append(mySet,diff) # add the new peper\n",
    "    return mySet[0]"
   ]
  },
  {
   "cell_type": "code",
   "execution_count": 3,
   "id": "a4fd6d9d",
   "metadata": {},
   "outputs": [],
   "source": [
    "mySet = np.arange(1,2025) # generate [1,2024]\n",
    "mylist = [] # initiate the list for the result\n",
    "for _ in range(1012): # do it 1012 times\n",
    "    mylist.append(hat(mySet))"
   ]
  },
  {
   "cell_type": "code",
   "execution_count": 4,
   "id": "ef8654f4",
   "metadata": {},
   "outputs": [
    {
     "name": "stdout",
     "output_type": "stream",
     "text": [
      "[456, 288, 824, 298, 36, 332, 50, 346, 642, 92, 810, 424, 72, 760, 346, 12, 404, 12, 550, 298, 514, 92, 852, 622, 590, 8, 28, 426, 126, 72, 564, 96, 760, 428, 456, 450, 678, 160, 466, 262, 716, 458, 46, 746, 232, 106, 380, 228, 108, 206, 64, 878, 48, 160, 994, 94, 142, 202, 68, 38, 214, 88, 224, 78, 1782, 130, 482, 332, 308, 674, 148, 20, 212, 832, 80, 936, 108, 988, 46, 152, 654, 158, 126, 336, 1016, 270, 860, 10, 576, 270, 74, 314, 232, 112, 168, 48, 172, 206, 540, 740, 280, 160, 112, 550, 30, 152, 618, 1374, 476, 168, 36, 252, 268, 162, 114, 178, 314, 728, 182, 236, 404, 926, 1322, 512, 272, 88, 6, 570, 406, 512, 86, 204, 444, 272, 574, 184, 284, 492, 710, 582, 620, 188, 242, 44, 354, 250, 46, 250, 126, 554, 74, 68, 392, 588, 188, 42, 280, 82, 1384, 1038, 256, 814, 90, 1424, 46, 188, 158, 586, 150, 632, 1250, 378, 656, 56, 114, 140, 214, 380, 812, 482, 144, 14, 542, 110, 588, 468, 320, 344, 112, 414, 332, 294, 278, 1022, 40, 358, 124, 442, 132, 456, 260, 304, 62, 324, 504, 474, 24, 126, 140, 134, 388, 366, 376, 42, 40, 528, 50, 346, 126, 602, 504, 150, 42, 324, 28, 404, 448, 250, 670, 166, 56, 808, 728, 494, 184, 230, 50, 234, 330, 176, 352, 498, 46, 342, 70, 516, 154, 292, 74, 122, 144, 620, 208, 326, 800, 316, 454, 416, 422, 882, 172, 42, 558, 278, 986, 248, 350, 596, 88, 544, 238, 168, 538, 830, 200, 6, 634, 626, 48, 342, 38, 232, 456, 220, 212, 356, 428, 516, 40, 46, 144, 70, 34, 168, 786, 58, 202, 14, 310, 628, 206, 168, 354, 38, 128, 344, 202, 36, 2, 84, 706, 76, 904, 188, 782, 300, 746, 32, 192, 482, 1034, 102, 174, 82, 708, 390, 750, 988, 496, 242, 446, 484, 32, 18, 328, 500, 68, 604, 558, 288, 70, 318, 378, 192, 532, 506, 250, 66, 132, 1040, 56, 386, 202, 560, 228, 630, 144, 334, 334, 142, 862, 82, 34, 22, 8, 1076, 384, 506, 458, 70, 126, 456, 680, 766, 54, 38, 296, 830, 452, 124, 304, 246, 74, 494, 102, 188, 16, 288, 586, 36, 360, 768, 472, 402, 442, 148, 94, 46, 170, 746, 764, 1496, 842, 330, 708, 2, 166, 414, 642, 638, 58, 494, 442, 206, 156, 924, 836, 14, 18, 476, 354, 504, 892, 1000, 20, 584, 798, 0, 420, 240, 814, 736, 244, 142, 1034, 34, 390, 864, 86, 186, 66, 2, 408, 106, 166, 8, 302, 456, 18, 134, 310, 488, 128, 408, 340, 472, 30, 724, 218, 260, 480, 290, 78, 192, 230, 354, 182, 578, 740, 142, 196, 916, 1048, 938, 44, 236, 84, 48, 366, 208, 1328, 354, 12, 662, 718, 400, 558, 746, 94, 142, 28, 72, 58, 538, 78, 588, 20, 148, 484, 174, 214, 216, 36, 54, 66, 26, 536, 488, 806, 40, 22, 4, 224, 102, 244, 616, 418, 130, 286, 38, 330, 474, 260, 854, 488, 252, 228, 360, 476, 422, 84, 756, 324, 32, 574, 1196, 728, 60, 156, 1024, 114, 332, 270, 14, 1030, 60, 160, 72, 134, 450, 186, 10, 440, 68, 196, 588, 452, 862, 62, 240, 52, 358, 630, 712, 380, 420, 240, 84, 754, 268, 70, 332, 8, 368, 546, 138, 140, 716, 36, 148, 88, 442, 18, 594, 356, 842, 34, 30, 66, 182, 354, 530, 202, 122, 66, 382, 10, 180, 516, 100, 252, 266, 250, 532, 214, 402, 104, 292, 168, 74, 404, 186, 550, 184, 204, 424, 538, 614, 230, 610, 586, 8, 170, 190, 358, 1040, 72, 102, 800, 236, 160, 732, 32, 240, 194, 734, 544, 22, 2, 12, 312, 50, 266, 592, 472, 386, 374, 904, 8, 120, 314, 76, 126, 402, 36, 292, 296, 184, 82, 4, 786, 126, 196, 338, 548, 128, 538, 298, 290, 366, 322, 92, 132, 88, 486, 1738, 18, 134, 528, 170, 440, 196, 168, 758, 24, 38, 590, 866, 218, 86, 34, 402, 310, 286, 12, 644, 258, 314, 34, 260, 12, 560, 460, 20, 52, 408, 598, 526, 308, 44, 62, 652, 854, 92, 236, 250, 626, 114, 38, 64, 138, 256, 190, 50, 26, 340, 48, 354, 1126, 832, 88, 368, 760, 46, 206, 146, 294, 686, 4, 170, 182, 538, 86, 516, 220, 140, 634, 434, 230, 6, 76, 442, 48, 702, 556, 670, 890, 336, 436, 176, 54, 74, 228, 244, 74, 96, 454, 68, 302, 234, 358, 1200, 806, 830, 170, 240, 30, 236, 576, 1278, 452, 112, 1370, 354, 26, 976, 798, 40, 16, 330, 40, 748, 242, 556, 430, 170, 222, 176, 2, 146, 154, 672, 240, 1242, 444, 248, 530, 12, 320, 676, 104, 918, 550, 90, 348, 848, 568, 116, 822, 410, 870, 422, 604, 168, 40, 242, 134, 798, 516, 104, 264, 390, 562, 338, 948, 192, 172, 52, 674, 436, 48, 344, 746, 226, 192, 240, 882, 268, 210, 312, 168, 144, 4, 134, 790, 762, 64, 496, 82, 72, 90, 170, 460, 444, 334, 326, 378, 106, 316, 530, 110, 658, 134, 320, 694, 294, 342, 56, 770, 120, 434, 466, 522, 824, 526, 136, 192, 56, 128, 258, 730, 104, 174, 328, 104, 272, 1594, 306, 792, 12, 100, 130, 428, 692, 158, 272, 504, 812, 396, 476, 244, 626, 126, 226, 360, 546, 354, 12, 996, 604, 176, 188, 6, 364, 800, 80, 68, 264, 810, 338, 0, 74, 128, 178, 296, 172, 548, 410, 206, 526, 70, 154, 8, 150, 166, 192, 48, 1104, 258, 350, 52, 44, 992, 304, 888, 110, 132, 72, 566, 118, 222, 638, 50, 552, 146, 496, 190, 250, 2, 36, 354, 30, 72, 200, 110, 226, 138, 382, 150, 1224, 56, 148, 50, 266, 274, 42, 748, 36, 112, 602, 114, 806, 90, 266, 324, 454, 682, 352, 170, 12, 98, 572, 494, 512, 62, 30, 174, 38, 686, 302, 258, 58]\n"
     ]
    }
   ],
   "source": [
    "print(mylist)"
   ]
  },
  {
   "cell_type": "code",
   "execution_count": 5,
   "id": "24f16ce6",
   "metadata": {},
   "outputs": [
    {
     "name": "stdout",
     "output_type": "stream",
     "text": [
      "The number of odd number in the result is:  0\n"
     ]
    }
   ],
   "source": [
    "o = 0\n",
    "for item in mylist:\n",
    "    if item%2 == 1:\n",
    "        o+=1\n",
    "print('The number of odd number in the result is: ',o)"
   ]
  },
  {
   "cell_type": "code",
   "execution_count": 6,
   "id": "b47373bc",
   "metadata": {},
   "outputs": [
    {
     "data": {
      "image/png": "[encoded data removed]",
      "text/plain": [
       "<Figure size 432x288 with 1 Axes>"
      ]
     },
     "metadata": {
      "needs_background": "light"
     },
     "output_type": "display_data"
    }
   ],
   "source": [
    "plt.hist(mylist, bins=20)\n",
    "plt.xlabel('The final number')\n",
    "plt.ylabel('Counts')\n",
    "plt.show()"
   ]
  },
  {
   "cell_type": "code",
   "execution_count": null,
   "id": "273a3811",
   "metadata": {},
   "outputs": [],
   "source": []
  }
 ],
 "metadata": {
  "kernelspec": {
   "display_name": "Python 3 (ipykernel)",
   "language": "python",
   "name": "python3"
  },
  "language_info": {
   "codemirror_mode": {
    "name": "ipython",
    "version": 3
   },
   "file_extension": ".py",
   "mimetype": "text/x-python",
   "name": "python",
   "nbconvert_exporter": "python",
   "pygments_lexer": "ipython3",
   "version": "3.9.7"
  }
 },
 "nbformat": 4,
 "nbformat_minor": 5
}
