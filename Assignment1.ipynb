{
 "cells": [
  {
   "cell_type": "code",
   "execution_count": 1,
   "id": "dc1b3f1a",
   "metadata": {},
   "outputs": [],
   "source": [
    "# import necessary library\n",
    "import numpy as np"
   ]
  },
  {
   "cell_type": "code",
   "execution_count": 2,
   "id": "474fe504",
   "metadata": {},
   "outputs": [],
   "source": [
    "# number bracelet of length num+2 with two start numbers\n",
    "def chain(start, num):\n",
    "    chain = []\n",
    "    chain.append(start[0])\n",
    "    chain.append(start[1])# two start numbers\n",
    "    for i in range(num):\n",
    "        chain.append((chain[i+1]+chain[i])%10)\n",
    "    return chain"
   ]
  },
  {
   "cell_type": "code",
   "execution_count": 3,
   "id": "f24d46f1",
   "metadata": {},
   "outputs": [
    {
     "name": "stdout",
     "output_type": "stream",
     "text": [
      "[1, 5, 6, 1, 7, 8, 5, 3, 8, 1, 9, 0, 9, 9, 8, 7, 5, 2, 7, 9, 6, 5, 1, 6, 7, 3, 0, 3, 3, 6, 9, 5, 4, 9, 3, 2, 5, 7, 2, 9, 1, 0, 1, 1, 2, 3, 5, 8, 3, 1, 4, 5, 9, 4, 3, 7, 0, 7, 7, 4, 1, 5, 6, 1, 7, 8, 5, 3, 8, 1, 9, 0, 9, 9, 8, 7, 5, 2, 7, 9, 6, 5, 1, 6, 7, 3, 0, 3, 3, 6, 9, 5, 4, 9, 3, 2, 5, 7, 2, 9, 1, 0]\n"
     ]
    }
   ],
   "source": [
    "# example of B_{1,5}\n",
    "B1_5 = chain([1,5], 100)\n",
    "print(B1_5)"
   ]
  },
  {
   "cell_type": "code",
   "execution_count": 4,
   "id": "00986c25",
   "metadata": {},
   "outputs": [],
   "source": [
    "# find the length of the circular chian\n",
    "def chain_num(start, num):\n",
    "    n1 = start[0]\n",
    "    n2 = start[1] # two start numbers\n",
    "    i = 0 # count the number of times\n",
    "    while i<num:\n",
    "        temp = (n1+n2)%10\n",
    "        n1 = n2 # new start number 1\n",
    "        n2 = temp # new start number 2\n",
    "        i += 1\n",
    "        if [n1,n2]==start:\n",
    "            return i\n",
    "    return num+1 # if reach the max number of times"
   ]
  },
  {
   "cell_type": "code",
   "execution_count": 5,
   "id": "42a48b2c",
   "metadata": {},
   "outputs": [
    {
     "data": {
      "text/plain": [
       "60"
      ]
     },
     "execution_count": 5,
     "metadata": {},
     "output_type": "execute_result"
    }
   ],
   "source": [
    "# example of B_{1,5}\n",
    "chain_num([1,5],100)"
   ]
  },
  {
   "cell_type": "code",
   "execution_count": 6,
   "id": "20b511cf",
   "metadata": {},
   "outputs": [],
   "source": [
    "# function to delete counted combinations\n",
    "def M_minus(M, C):\n",
    "    for k in range(len(C)-1):\n",
    "        if M[C[k],C[k+1]] > 0:\n",
    "            M[C[k],C[k+1]] = 0\n",
    "    return M"
   ]
  },
  {
   "cell_type": "code",
   "execution_count": 7,
   "id": "81af8aec",
   "metadata": {},
   "outputs": [],
   "source": [
    "# set the matrix\n",
    "M = np.ones([10,10],dtype=int)"
   ]
  },
  {
   "cell_type": "code",
   "execution_count": 8,
   "id": "2c05fde1",
   "metadata": {},
   "outputs": [],
   "source": [
    "# the main loop\n",
    "total = 0 # set the total number\n",
    "for i in range(10):\n",
    "    for j in range(10): # go through all the entries\n",
    "        if M[i][j] > 0:\n",
    "            n = chain_num([i,j], 100)\n",
    "            if n>100: # if reach the max, then print the message\n",
    "                print('100 is not enough for this:', [i.j])\n",
    "                continue\n",
    "            M_minus(M, chain([i,j], n))\n",
    "            total += 1"
   ]
  },
  {
   "cell_type": "code",
   "execution_count": 9,
   "id": "3975d755",
   "metadata": {},
   "outputs": [
    {
     "data": {
      "text/plain": [
       "6"
      ]
     },
     "execution_count": 9,
     "metadata": {},
     "output_type": "execute_result"
    }
   ],
   "source": [
    "total"
   ]
  },
  {
   "cell_type": "code",
   "execution_count": 10,
   "id": "1cc4265f",
   "metadata": {},
   "outputs": [
    {
     "data": {
      "text/plain": [
       "array([[0, 0, 0, 0, 0, 0, 0, 0, 0, 0],\n",
       "       [0, 0, 0, 0, 0, 0, 0, 0, 0, 0],\n",
       "       [0, 0, 0, 0, 0, 0, 0, 0, 0, 0],\n",
       "       [0, 0, 0, 0, 0, 0, 0, 0, 0, 0],\n",
       "       [0, 0, 0, 0, 0, 0, 0, 0, 0, 0],\n",
       "       [0, 0, 0, 0, 0, 0, 0, 0, 0, 0],\n",
       "       [0, 0, 0, 0, 0, 0, 0, 0, 0, 0],\n",
       "       [0, 0, 0, 0, 0, 0, 0, 0, 0, 0],\n",
       "       [0, 0, 0, 0, 0, 0, 0, 0, 0, 0],\n",
       "       [0, 0, 0, 0, 0, 0, 0, 0, 0, 0]])"
      ]
     },
     "execution_count": 10,
     "metadata": {},
     "output_type": "execute_result"
    }
   ],
   "source": [
    "M"
   ]
  },
  {
   "cell_type": "code",
   "execution_count": null,
   "id": "b825f050",
   "metadata": {},
   "outputs": [],
   "source": []
  },
  {
   "cell_type": "code",
   "execution_count": null,
   "id": "92b6135c",
   "metadata": {},
   "outputs": [],
   "source": []
  }
 ],
 "metadata": {
  "kernelspec": {
   "display_name": "Python 3 (ipykernel)",
   "language": "python",
   "name": "python3"
  },
  "language_info": {
   "codemirror_mode": {
    "name": "ipython",
    "version": 3
   },
   "file_extension": ".py",
   "mimetype": "text/x-python",
   "name": "python",
   "nbconvert_exporter": "python",
   "pygments_lexer": "ipython3",
   "version": "3.9.7"
  }
 },
 "nbformat": 4,
 "nbformat_minor": 5
}
