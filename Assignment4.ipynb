{
 "cells": [
  {
   "cell_type": "code",
   "execution_count": 1,
   "id": "e6d20351",
   "metadata": {},
   "outputs": [],
   "source": [
    "# import necessary library\n",
    "import numpy as np"
   ]
  },
  {
   "cell_type": "code",
   "execution_count": 2,
   "id": "4d0f0e81",
   "metadata": {},
   "outputs": [],
   "source": [
    "def experiment(N):\n",
    "    count = 0 # initiate the counts for landing on 25\n",
    "    for _ in range(N): # do the experiment for N times\n",
    "        time  = 0 # initiate time=24\n",
    "        n = 1 # initiate the step number\n",
    "        while time <24 and n<25:\n",
    "            temp = np.random.randint(2) # randomly generate 1 or 2 by generating 0 or 1\n",
    "            time += 1\n",
    "            if temp == 0: # if 0, then it is 1\n",
    "                n += 1\n",
    "                continue\n",
    "            n += 2 # is not 0, it is 2\n",
    "        if n == 25: # count for one if n is 25\n",
    "            count += 1\n",
    "    return count/N # return the probability"
   ]
  },
  {
   "cell_type": "code",
   "execution_count": 3,
   "id": "dccf02c0",
   "metadata": {},
   "outputs": [
    {
     "data": {
      "text/plain": [
       "0.667144"
      ]
     },
     "execution_count": 3,
     "metadata": {},
     "output_type": "execute_result"
    }
   ],
   "source": [
    "# the result\n",
    "experiment(int(1e6))"
   ]
  },
  {
   "cell_type": "code",
   "execution_count": null,
   "id": "2dbe3ddd",
   "metadata": {},
   "outputs": [],
   "source": []
  }
 ],
 "metadata": {
  "kernelspec": {
   "display_name": "Python 3 (ipykernel)",
   "language": "python",
   "name": "python3"
  },
  "language_info": {
   "codemirror_mode": {
    "name": "ipython",
    "version": 3
   },
   "file_extension": ".py",
   "mimetype": "text/x-python",
   "name": "python",
   "nbconvert_exporter": "python",
   "pygments_lexer": "ipython3",
   "version": "3.9.7"
  }
 },
 "nbformat": 4,
 "nbformat_minor": 5
}
